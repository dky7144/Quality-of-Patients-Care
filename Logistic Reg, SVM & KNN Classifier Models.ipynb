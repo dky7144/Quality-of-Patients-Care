{
 "cells": [
  {
   "cell_type": "markdown",
   "metadata": {},
   "source": [
    "# Importing Important Libraries"
   ]
  },
  {
   "cell_type": "code",
   "execution_count": 1,
   "metadata": {},
   "outputs": [],
   "source": [
    "import numpy as np\n",
    "import pandas as pd\n",
    "import matplotlib.pyplot as plt\n",
    "import seaborn as sns\n",
    "%matplotlib inline\n",
    "import math\n",
    "import warnings\n",
    "warnings.filterwarnings('ignore')"
   ]
  },
  {
   "cell_type": "markdown",
   "metadata": {},
   "source": [
    "# Reading the data"
   ]
  },
  {
   "cell_type": "code",
   "execution_count": 2,
   "metadata": {},
   "outputs": [],
   "source": [
    "df=pd.read_csv(\"quality data.csv\")"
   ]
  },
  {
   "cell_type": "markdown",
   "metadata": {},
   "source": [
    "# EDA"
   ]
  },
  {
   "cell_type": "code",
   "execution_count": 3,
   "metadata": {},
   "outputs": [
    {
     "name": "stdout",
     "output_type": "stream",
     "text": [
      "<class 'pandas.core.frame.DataFrame'>\n",
      "RangeIndex: 131 entries, 0 to 130\n",
      "Data columns (total 14 columns):\n",
      "MemberID                131 non-null int64\n",
      "InpatientDays           131 non-null int64\n",
      "ERVisits                131 non-null int64\n",
      "OfficeVisits            131 non-null int64\n",
      "Narcotics               131 non-null int64\n",
      "DaysSinceLastERVisit    131 non-null float64\n",
      "Pain                    131 non-null int64\n",
      "TotalVisits             131 non-null int64\n",
      "ProviderCount           131 non-null int64\n",
      "MedicalClaims           131 non-null int64\n",
      "ClaimLines              131 non-null int64\n",
      "StartedOnCombination    131 non-null bool\n",
      "AcuteDrugGapSmall       131 non-null int64\n",
      "PoorCare                131 non-null int64\n",
      "dtypes: bool(1), float64(1), int64(12)\n",
      "memory usage: 13.5 KB\n",
      "None\n",
      "\n",
      " MemberID                0\n",
      "InpatientDays           0\n",
      "ERVisits                0\n",
      "OfficeVisits            0\n",
      "Narcotics               0\n",
      "DaysSinceLastERVisit    0\n",
      "Pain                    0\n",
      "TotalVisits             0\n",
      "ProviderCount           0\n",
      "MedicalClaims           0\n",
      "ClaimLines              0\n",
      "StartedOnCombination    0\n",
      "AcuteDrugGapSmall       0\n",
      "PoorCare                0\n",
      "dtype: int64\n",
      "\n",
      "          MemberID  InpatientDays    ERVisits  OfficeVisits   Narcotics  \\\n",
      "count  131.000000     131.000000  131.000000    131.000000  131.000000   \n",
      "mean    66.000000       2.717557    1.496183     13.229008    4.572519   \n",
      "std     37.960506       5.099434    2.167501      9.077076    9.713615   \n",
      "min      1.000000       0.000000    0.000000      0.000000    0.000000   \n",
      "25%     33.500000       0.000000    0.000000      7.000000    0.000000   \n",
      "50%     66.000000       0.000000    1.000000     12.000000    1.000000   \n",
      "75%     98.500000       3.000000    2.000000     18.500000    3.000000   \n",
      "max    131.000000      30.000000   11.000000     46.000000   59.000000   \n",
      "\n",
      "       DaysSinceLastERVisit        Pain  TotalVisits  ProviderCount  \\\n",
      "count            131.000000  131.000000   131.000000     131.000000   \n",
      "mean             480.567112   15.557252    17.442748      23.984733   \n",
      "std              274.767240   20.418001    12.298318      13.670285   \n",
      "min                6.000000    0.000000     0.000000       5.000000   \n",
      "25%              206.958333    1.000000     8.000000      15.000000   \n",
      "50%              640.958333    8.000000    15.000000      20.000000   \n",
      "75%              731.000000   23.000000    22.500000      30.000000   \n",
      "max              731.000000  104.000000    69.000000      82.000000   \n",
      "\n",
      "       MedicalClaims  ClaimLines  AcuteDrugGapSmall    PoorCare  \n",
      "count     131.000000  131.000000         131.000000  131.000000  \n",
      "mean       43.244275  142.862595           2.694656    0.251908  \n",
      "std        28.886540   91.629921           6.983379    0.435775  \n",
      "min        11.000000   20.000000           0.000000    0.000000  \n",
      "25%        25.500000   83.500000           0.000000    0.000000  \n",
      "50%        37.000000  120.000000           1.000000    0.000000  \n",
      "75%        49.500000  185.000000           3.000000    0.500000  \n",
      "max       194.000000  577.000000          71.000000    1.000000  \n",
      "\n",
      " Index(['MemberID', 'InpatientDays', 'ERVisits', 'OfficeVisits', 'Narcotics',\n",
      "       'DaysSinceLastERVisit', 'Pain', 'TotalVisits', 'ProviderCount',\n",
      "       'MedicalClaims', 'ClaimLines', 'StartedOnCombination',\n",
      "       'AcuteDrugGapSmall', 'PoorCare'],\n",
      "      dtype='object')\n",
      "\n",
      " (131, 14)\n"
     ]
    },
    {
     "data": {
      "text/html": [
       "<div>\n",
       "<style scoped>\n",
       "    .dataframe tbody tr th:only-of-type {\n",
       "        vertical-align: middle;\n",
       "    }\n",
       "\n",
       "    .dataframe tbody tr th {\n",
       "        vertical-align: top;\n",
       "    }\n",
       "\n",
       "    .dataframe thead th {\n",
       "        text-align: right;\n",
       "    }\n",
       "</style>\n",
       "<table border=\"1\" class=\"dataframe\">\n",
       "  <thead>\n",
       "    <tr style=\"text-align: right;\">\n",
       "      <th></th>\n",
       "      <th>MemberID</th>\n",
       "      <th>InpatientDays</th>\n",
       "      <th>ERVisits</th>\n",
       "      <th>OfficeVisits</th>\n",
       "      <th>Narcotics</th>\n",
       "      <th>DaysSinceLastERVisit</th>\n",
       "      <th>Pain</th>\n",
       "      <th>TotalVisits</th>\n",
       "      <th>ProviderCount</th>\n",
       "      <th>MedicalClaims</th>\n",
       "      <th>ClaimLines</th>\n",
       "      <th>StartedOnCombination</th>\n",
       "      <th>AcuteDrugGapSmall</th>\n",
       "      <th>PoorCare</th>\n",
       "    </tr>\n",
       "  </thead>\n",
       "  <tbody>\n",
       "    <tr>\n",
       "      <th>0</th>\n",
       "      <td>1</td>\n",
       "      <td>0</td>\n",
       "      <td>0</td>\n",
       "      <td>18</td>\n",
       "      <td>1</td>\n",
       "      <td>731.0</td>\n",
       "      <td>10</td>\n",
       "      <td>18</td>\n",
       "      <td>21</td>\n",
       "      <td>93</td>\n",
       "      <td>222</td>\n",
       "      <td>False</td>\n",
       "      <td>0</td>\n",
       "      <td>0</td>\n",
       "    </tr>\n",
       "    <tr>\n",
       "      <th>1</th>\n",
       "      <td>2</td>\n",
       "      <td>1</td>\n",
       "      <td>1</td>\n",
       "      <td>6</td>\n",
       "      <td>1</td>\n",
       "      <td>411.0</td>\n",
       "      <td>0</td>\n",
       "      <td>8</td>\n",
       "      <td>27</td>\n",
       "      <td>19</td>\n",
       "      <td>115</td>\n",
       "      <td>False</td>\n",
       "      <td>1</td>\n",
       "      <td>0</td>\n",
       "    </tr>\n",
       "    <tr>\n",
       "      <th>2</th>\n",
       "      <td>3</td>\n",
       "      <td>0</td>\n",
       "      <td>0</td>\n",
       "      <td>5</td>\n",
       "      <td>3</td>\n",
       "      <td>731.0</td>\n",
       "      <td>10</td>\n",
       "      <td>5</td>\n",
       "      <td>16</td>\n",
       "      <td>27</td>\n",
       "      <td>148</td>\n",
       "      <td>False</td>\n",
       "      <td>5</td>\n",
       "      <td>0</td>\n",
       "    </tr>\n",
       "    <tr>\n",
       "      <th>3</th>\n",
       "      <td>4</td>\n",
       "      <td>0</td>\n",
       "      <td>1</td>\n",
       "      <td>19</td>\n",
       "      <td>0</td>\n",
       "      <td>158.0</td>\n",
       "      <td>34</td>\n",
       "      <td>20</td>\n",
       "      <td>14</td>\n",
       "      <td>59</td>\n",
       "      <td>242</td>\n",
       "      <td>False</td>\n",
       "      <td>0</td>\n",
       "      <td>0</td>\n",
       "    </tr>\n",
       "    <tr>\n",
       "      <th>4</th>\n",
       "      <td>5</td>\n",
       "      <td>8</td>\n",
       "      <td>2</td>\n",
       "      <td>19</td>\n",
       "      <td>3</td>\n",
       "      <td>449.0</td>\n",
       "      <td>10</td>\n",
       "      <td>29</td>\n",
       "      <td>24</td>\n",
       "      <td>51</td>\n",
       "      <td>204</td>\n",
       "      <td>False</td>\n",
       "      <td>0</td>\n",
       "      <td>0</td>\n",
       "    </tr>\n",
       "  </tbody>\n",
       "</table>\n",
       "</div>"
      ],
      "text/plain": [
       "   MemberID  InpatientDays  ERVisits  OfficeVisits  Narcotics  \\\n",
       "0         1              0         0            18          1   \n",
       "1         2              1         1             6          1   \n",
       "2         3              0         0             5          3   \n",
       "3         4              0         1            19          0   \n",
       "4         5              8         2            19          3   \n",
       "\n",
       "   DaysSinceLastERVisit  Pain  TotalVisits  ProviderCount  MedicalClaims  \\\n",
       "0                 731.0    10           18             21             93   \n",
       "1                 411.0     0            8             27             19   \n",
       "2                 731.0    10            5             16             27   \n",
       "3                 158.0    34           20             14             59   \n",
       "4                 449.0    10           29             24             51   \n",
       "\n",
       "   ClaimLines  StartedOnCombination  AcuteDrugGapSmall  PoorCare  \n",
       "0         222                 False                  0         0  \n",
       "1         115                 False                  1         0  \n",
       "2         148                 False                  5         0  \n",
       "3         242                 False                  0         0  \n",
       "4         204                 False                  0         0  "
      ]
     },
     "execution_count": 3,
     "metadata": {},
     "output_type": "execute_result"
    }
   ],
   "source": [
    "print(df.info())\n",
    "print('\\n',df.isnull().sum())\n",
    "print('\\n',df.describe())\n",
    "print('\\n',df.columns)\n",
    "print('\\n',df.shape)\n",
    "df.head()"
   ]
  },
  {
   "cell_type": "code",
   "execution_count": 4,
   "metadata": {},
   "outputs": [
    {
     "data": {
      "text/plain": [
       "0    98\n",
       "1    33\n",
       "Name: PoorCare, dtype: int64"
      ]
     },
     "execution_count": 4,
     "metadata": {},
     "output_type": "execute_result"
    }
   ],
   "source": [
    "#proportion of 1;s and 0's\n",
    "df['PoorCare'].value_counts()"
   ]
  },
  {
   "cell_type": "code",
   "execution_count": 5,
   "metadata": {},
   "outputs": [],
   "source": [
    "#So a baseline model will always predict 0\n",
    "# accuracy = 98/(98+33)=  74.8%"
   ]
  },
  {
   "cell_type": "code",
   "execution_count": 6,
   "metadata": {},
   "outputs": [
    {
     "data": {
      "text/html": [
       "<div>\n",
       "<style scoped>\n",
       "    .dataframe tbody tr th:only-of-type {\n",
       "        vertical-align: middle;\n",
       "    }\n",
       "\n",
       "    .dataframe tbody tr th {\n",
       "        vertical-align: top;\n",
       "    }\n",
       "\n",
       "    .dataframe thead th {\n",
       "        text-align: right;\n",
       "    }\n",
       "</style>\n",
       "<table border=\"1\" class=\"dataframe\">\n",
       "  <thead>\n",
       "    <tr style=\"text-align: right;\">\n",
       "      <th>StartedOnCombination</th>\n",
       "      <th>False</th>\n",
       "      <th>True</th>\n",
       "    </tr>\n",
       "    <tr>\n",
       "      <th>PoorCare</th>\n",
       "      <th></th>\n",
       "      <th></th>\n",
       "    </tr>\n",
       "  </thead>\n",
       "  <tbody>\n",
       "    <tr>\n",
       "      <th>0</th>\n",
       "      <td>97</td>\n",
       "      <td>1</td>\n",
       "    </tr>\n",
       "    <tr>\n",
       "      <th>1</th>\n",
       "      <td>28</td>\n",
       "      <td>5</td>\n",
       "    </tr>\n",
       "  </tbody>\n",
       "</table>\n",
       "</div>"
      ],
      "text/plain": [
       "StartedOnCombination  False  True \n",
       "PoorCare                          \n",
       "0                        97      1\n",
       "1                        28      5"
      ]
     },
     "execution_count": 6,
     "metadata": {},
     "output_type": "execute_result"
    }
   ],
   "source": [
    "pd.crosstab(df['PoorCare'],df['StartedOnCombination'])"
   ]
  },
  {
   "cell_type": "code",
   "execution_count": 7,
   "metadata": {},
   "outputs": [
    {
     "data": {
      "text/plain": [
       "<matplotlib.axes._subplots.AxesSubplot at 0x23a950be4e0>"
      ]
     },
     "execution_count": 7,
     "metadata": {},
     "output_type": "execute_result"
    },
    {
     "data": {
      "image/png": "[encoded data removed]",
      "text/plain": [
       "<Figure size 1080x576 with 2 Axes>"
      ]
     },
     "metadata": {
      "needs_background": "light"
     },
     "output_type": "display_data"
    }
   ],
   "source": [
    "plt.figure(figsize=(15,8))\n",
    "sns.heatmap(df.corr(),annot=True,cmap='coolwarm')"
   ]
  },
  {
   "cell_type": "code",
   "execution_count": 8,
   "metadata": {},
   "outputs": [],
   "source": [
    "#Narcotics, TotalVisits, StartedOnCombination & AcuteDrugGapSmall are much useful informations"
   ]
  },
  {
   "cell_type": "code",
   "execution_count": 9,
   "metadata": {},
   "outputs": [
    {
     "data": {
      "text/plain": [
       "<seaborn.axisgrid.PairGrid at 0x23a96620ba8>"
      ]
     },
     "execution_count": 9,
     "metadata": {},
     "output_type": "execute_result"
    },
    {
     "data": {
      "image/png": "[encoded data removed]",
      "text/plain": [
       "<Figure size 360x360 with 6 Axes>"
      ]
     },
     "metadata": {
      "needs_background": "light"
     },
     "output_type": "display_data"
    }
   ],
   "source": [
    "sns.pairplot(df[['OfficeVisits', 'TotalVisits']]) #have linear relation"
   ]
  },
  {
   "cell_type": "markdown",
   "metadata": {},
   "source": [
    "# Categorical Variable"
   ]
  },
  {
   "cell_type": "code",
   "execution_count": 10,
   "metadata": {},
   "outputs": [],
   "source": [
    "df.StartedOnCombination = [0 if df.StartedOnCombination[i]==False else 1 for i in range(len(df.StartedOnCombination))]"
   ]
  },
  {
   "cell_type": "code",
   "execution_count": 11,
   "metadata": {},
   "outputs": [
    {
     "data": {
      "text/plain": [
       "Int64Index([0, 1], dtype='int64')"
      ]
     },
     "execution_count": 11,
     "metadata": {},
     "output_type": "execute_result"
    }
   ],
   "source": [
    "df.StartedOnCombination = df.StartedOnCombination.astype('category')\n",
    "df.StartedOnCombination.cat.categories"
   ]
  },
  {
   "cell_type": "markdown",
   "metadata": {},
   "source": [
    "## Training and Testing data"
   ]
  },
  {
   "cell_type": "code",
   "execution_count": 12,
   "metadata": {},
   "outputs": [],
   "source": [
    "X=df[['Narcotics', 'DaysSinceLastERVisit', 'TotalVisits', 'MedicalClaims', 'StartedOnCombination', 'AcuteDrugGapSmall']]\n",
    "y=df.PoorCare\n",
    "from sklearn.model_selection import train_test_split\n",
    "X_train, X_test, y_train, y_test = train_test_split(X,y,test_size=0.2,random_state=1)"
   ]
  },
  {
   "cell_type": "code",
   "execution_count": 13,
   "metadata": {
    "scrolled": true
   },
   "outputs": [
    {
     "name": "stdout",
     "output_type": "stream",
     "text": [
      "(104, 6)\n",
      "(27, 6)\n"
     ]
    }
   ],
   "source": [
    "print(X_train.shape)\n",
    "print(X_test.shape)"
   ]
  },
  {
   "cell_type": "markdown",
   "metadata": {},
   "source": [
    "# Logistic Reg Model"
   ]
  },
  {
   "cell_type": "code",
   "execution_count": 14,
   "metadata": {},
   "outputs": [],
   "source": [
    "from sklearn.linear_model import LogisticRegression\n",
    "Log_reg=LogisticRegression(C = 1e9)"
   ]
  },
  {
   "cell_type": "code",
   "execution_count": 15,
   "metadata": {},
   "outputs": [
    {
     "data": {
      "text/plain": [
       "LogisticRegression(C=1000000000.0, class_weight=None, dual=False,\n",
       "                   fit_intercept=True, intercept_scaling=1, l1_ratio=None,\n",
       "                   max_iter=100, multi_class='warn', n_jobs=None, penalty='l2',\n",
       "                   random_state=None, solver='warn', tol=0.0001, verbose=0,\n",
       "                   warm_start=False)"
      ]
     },
     "execution_count": 15,
     "metadata": {},
     "output_type": "execute_result"
    }
   ],
   "source": [
    "Log_reg.fit(X_train,y_train)"
   ]
  },
  {
   "cell_type": "code",
   "execution_count": 16,
   "metadata": {
    "scrolled": true
   },
   "outputs": [
    {
     "name": "stdout",
     "output_type": "stream",
     "text": [
      "[-1.5572052]\n",
      "[[ 1.01497668e-01 -2.27773861e-03  4.29328342e-02 -1.67941175e-02\n",
      "   2.82728175e+00  1.69075925e-01]]\n"
     ]
    }
   ],
   "source": [
    "print(Log_reg.intercept_)\n",
    "print(Log_reg.coef_)"
   ]
  },
  {
   "cell_type": "code",
   "execution_count": 17,
   "metadata": {},
   "outputs": [
    {
     "name": "stdout",
     "output_type": "stream",
     "text": [
      "              precision    recall  f1-score   support\n",
      "\n",
      "           0       0.88      0.96      0.92        82\n",
      "           1       0.79      0.50      0.61        22\n",
      "\n",
      "    accuracy                           0.87       104\n",
      "   macro avg       0.83      0.73      0.76       104\n",
      "weighted avg       0.86      0.87      0.85       104\n",
      "\n",
      "*********\n",
      "[[79  3]\n",
      " [11 11]]\n"
     ]
    }
   ],
   "source": [
    "#predict on train data\n",
    "pred_train=Log_reg.predict(X_train)\n",
    "from sklearn.metrics import classification_report,confusion_matrix\n",
    "print(classification_report(y_train,pred_train))\n",
    "print (\"*********\")\n",
    "print (confusion_matrix(y_train,pred_train))"
   ]
  },
  {
   "cell_type": "code",
   "execution_count": 18,
   "metadata": {},
   "outputs": [
    {
     "name": "stdout",
     "output_type": "stream",
     "text": [
      "              precision    recall  f1-score   support\n",
      "\n",
      "           0       0.65      0.94      0.77        16\n",
      "           1       0.75      0.27      0.40        11\n",
      "\n",
      "    accuracy                           0.67        27\n",
      "   macro avg       0.70      0.61      0.58        27\n",
      "weighted avg       0.69      0.67      0.62        27\n",
      "\n",
      "*********\n",
      "[[15  1]\n",
      " [ 8  3]]\n"
     ]
    }
   ],
   "source": [
    "#predict on test data\n",
    "y_pred=Log_reg.predict(X_test)\n",
    "print(classification_report(y_test,y_pred))\n",
    "print (\"*********\")\n",
    "print (confusion_matrix(y_test,y_pred))"
   ]
  },
  {
   "cell_type": "markdown",
   "metadata": {},
   "source": [
    "ROC curve & AUC"
   ]
  },
  {
   "cell_type": "code",
   "execution_count": 50,
   "metadata": {},
   "outputs": [],
   "source": [
    "pred1=Log_reg.predict_proba(X_test)"
   ]
  },
  {
   "cell_type": "code",
   "execution_count": 52,
   "metadata": {},
   "outputs": [
    {
     "data": {
      "text/plain": [
       "(-0.05, 1.05)"
      ]
     },
     "execution_count": 52,
     "metadata": {},
     "output_type": "execute_result"
    },
    {
     "data": {
      "image/png": "[encoded data removed]",
      "text/plain": [
       "<Figure size 432x288 with 1 Axes>"
      ]
     },
     "metadata": {
      "needs_background": "light"
     },
     "output_type": "display_data"
    }
   ],
   "source": [
    "from sklearn import metrics\n",
    "fpr, tpr, threshold= metrics.roc_curve(y_test, pred1[:,1]) #pass the actual test DV and \n",
    "#predicted probability (only P(y)=1)\n",
    "plt.plot(fpr, tpr, label='ROC curve', color='b')\n",
    "plt.axes().set_aspect('equal')\n",
    "plt.xlim([-0.05, 1.05])\n",
    "plt.ylim([-0.05, 1.05])"
   ]
  },
  {
   "cell_type": "code",
   "execution_count": 56,
   "metadata": {},
   "outputs": [
    {
     "data": {
      "text/plain": [
       "0.8011363636363636"
      ]
     },
     "execution_count": 56,
     "metadata": {},
     "output_type": "execute_result"
    }
   ],
   "source": [
    "AUC= metrics.auc(fpr,tpr)\n",
    "AUC\n",
    "#area under the curve is good i.e. model covers 80% of the data points well"
   ]
  },
  {
   "cell_type": "code",
   "execution_count": 61,
   "metadata": {},
   "outputs": [
    {
     "data": {
      "text/html": [
       "<div>\n",
       "<style scoped>\n",
       "    .dataframe tbody tr th:only-of-type {\n",
       "        vertical-align: middle;\n",
       "    }\n",
       "\n",
       "    .dataframe tbody tr th {\n",
       "        vertical-align: top;\n",
       "    }\n",
       "\n",
       "    .dataframe thead th {\n",
       "        text-align: right;\n",
       "    }\n",
       "</style>\n",
       "<table border=\"1\" class=\"dataframe\">\n",
       "  <thead>\n",
       "    <tr style=\"text-align: right;\">\n",
       "      <th>col_0</th>\n",
       "      <th>0</th>\n",
       "      <th>1</th>\n",
       "    </tr>\n",
       "    <tr>\n",
       "      <th>PoorCare</th>\n",
       "      <th></th>\n",
       "      <th></th>\n",
       "    </tr>\n",
       "  </thead>\n",
       "  <tbody>\n",
       "    <tr>\n",
       "      <th>0</th>\n",
       "      <td>15</td>\n",
       "      <td>1</td>\n",
       "    </tr>\n",
       "    <tr>\n",
       "      <th>1</th>\n",
       "      <td>6</td>\n",
       "      <td>5</td>\n",
       "    </tr>\n",
       "  </tbody>\n",
       "</table>\n",
       "</div>"
      ],
      "text/plain": [
       "col_0      0  1\n",
       "PoorCare       \n",
       "0         15  1\n",
       "1          6  5"
      ]
     },
     "execution_count": 61,
     "metadata": {},
     "output_type": "execute_result"
    }
   ],
   "source": [
    "#CONVERT THE PROBABILITITS TO 1'S AND 0'S APPLYING OUT OWN THRESHOLD\n",
    "#HERE 0.4\n",
    "x=[]\n",
    "for i in range(len(pred1[:,1])):\n",
    "    if (pred1[:,1][i]>=0.4):\n",
    "        x.append(1)\n",
    "    else:\n",
    "        x.append(0)\n",
    "y_pred_roc=np.array(x)\n",
    "pd.crosstab(y_test,y_pred_roc)"
   ]
  },
  {
   "cell_type": "code",
   "execution_count": 62,
   "metadata": {},
   "outputs": [
    {
     "name": "stdout",
     "output_type": "stream",
     "text": [
      "              precision    recall  f1-score   support\n",
      "\n",
      "           0       0.71      0.94      0.81        16\n",
      "           1       0.83      0.45      0.59        11\n",
      "\n",
      "    accuracy                           0.74        27\n",
      "   macro avg       0.77      0.70      0.70        27\n",
      "weighted avg       0.76      0.74      0.72        27\n",
      "\n",
      "*********\n",
      "[[15  1]\n",
      " [ 6  5]]\n"
     ]
    }
   ],
   "source": [
    "print(classification_report(y_test,y_pred_roc))\n",
    "print (\"*********\")\n",
    "print (confusion_matrix(y_test,y_pred_roc))"
   ]
  },
  {
   "cell_type": "code",
   "execution_count": null,
   "metadata": {},
   "outputs": [],
   "source": [
    "#changing the threshold based on ROC curve improves the results"
   ]
  },
  {
   "cell_type": "markdown",
   "metadata": {},
   "source": [
    "# SVM Model"
   ]
  },
  {
   "cell_type": "code",
   "execution_count": 19,
   "metadata": {},
   "outputs": [
    {
     "data": {
      "text/plain": [
       "SVC(C=1, cache_size=200, class_weight=None, coef0=0.0,\n",
       "    decision_function_shape='ovr', degree=3, gamma=2, kernel='linear',\n",
       "    max_iter=-1, probability=False, random_state=None, shrinking=True,\n",
       "    tol=0.001, verbose=False)"
      ]
     },
     "execution_count": 19,
     "metadata": {},
     "output_type": "execute_result"
    }
   ],
   "source": [
    "from sklearn.svm import SVC\n",
    "model = SVC(kernel='linear', C=1,gamma=2)\n",
    "model.fit(X_train, y_train)"
   ]
  },
  {
   "cell_type": "code",
   "execution_count": 20,
   "metadata": {},
   "outputs": [
    {
     "name": "stdout",
     "output_type": "stream",
     "text": [
      "              precision    recall  f1-score   support\n",
      "\n",
      "           0       0.88      0.96      0.92        82\n",
      "           1       0.79      0.50      0.61        22\n",
      "\n",
      "    accuracy                           0.87       104\n",
      "   macro avg       0.83      0.73      0.76       104\n",
      "weighted avg       0.86      0.87      0.85       104\n",
      "\n",
      "*********\n",
      "[[79  3]\n",
      " [11 11]]\n"
     ]
    }
   ],
   "source": [
    "#prediction on train data\n",
    "pred_y_train=model.predict(X_train)\n",
    "print(classification_report(y_train,pred_y_train))\n",
    "print (\"*********\")\n",
    "print (confusion_matrix(y_train,pred_y_train))"
   ]
  },
  {
   "cell_type": "code",
   "execution_count": 21,
   "metadata": {},
   "outputs": [
    {
     "name": "stdout",
     "output_type": "stream",
     "text": [
      "              precision    recall  f1-score   support\n",
      "\n",
      "           0       0.70      1.00      0.82        16\n",
      "           1       1.00      0.36      0.53        11\n",
      "\n",
      "    accuracy                           0.74        27\n",
      "   macro avg       0.85      0.68      0.68        27\n",
      "weighted avg       0.82      0.74      0.70        27\n",
      "\n",
      "*********\n",
      "[[16  0]\n",
      " [ 7  4]]\n"
     ]
    }
   ],
   "source": [
    "#prediction on test data\n",
    "pred_y=model.predict(X_test)\n",
    "print(classification_report(y_test,pred_y))\n",
    "print (\"*********\")\n",
    "print (confusion_matrix(y_test,pred_y))"
   ]
  },
  {
   "cell_type": "code",
   "execution_count": 22,
   "metadata": {},
   "outputs": [],
   "source": [
    "#performing better than logistic reg model on test data"
   ]
  },
  {
   "cell_type": "markdown",
   "metadata": {},
   "source": [
    "Parameter Tuning"
   ]
  },
  {
   "cell_type": "code",
   "execution_count": 23,
   "metadata": {},
   "outputs": [],
   "source": [
    "from sklearn.model_selection import GridSearchCV\n",
    "k=['linear']\n",
    "c=[0.0001, 0.001, 0.01, 0.1, 1, 2, 4, 6, 8, 10]\n",
    "g=[0.0001, 0.001, 0.01, 0.1, 1, 2, 4, 6, 8, 10]\n",
    "param_grid = {'C': c, 'gamma' : g, 'kernel': k} #this is taken as a dictionary\n",
    "new_model=SVC()\n",
    "grid = GridSearchCV(new_model, param_grid,scoring='accuracy')"
   ]
  },
  {
   "cell_type": "code",
   "execution_count": 24,
   "metadata": {},
   "outputs": [
    {
     "name": "stderr",
     "output_type": "stream",
     "text": [
      "C:\\Users\\Rahul\\Anaconda3\\lib\\site-packages\\sklearn\\model_selection\\_search.py:814: DeprecationWarning: The default of the `iid` parameter will change from True to False in version 0.22 and will be removed in 0.24. This will change numeric results when test-set sizes are unequal.\n",
      "  DeprecationWarning)\n"
     ]
    },
    {
     "data": {
      "text/plain": [
       "GridSearchCV(cv='warn', error_score='raise-deprecating',\n",
       "             estimator=SVC(C=1.0, cache_size=200, class_weight=None, coef0=0.0,\n",
       "                           decision_function_shape='ovr', degree=3,\n",
       "                           gamma='auto_deprecated', kernel='rbf', max_iter=-1,\n",
       "                           probability=False, random_state=None, shrinking=True,\n",
       "                           tol=0.001, verbose=False),\n",
       "             iid='warn', n_jobs=None,\n",
       "             param_grid={'C': [0.0001, 0.001, 0.01, 0.1, 1, 2, 4, 6, 8, 10],\n",
       "                         'gamma': [0.0001, 0.001, 0.01, 0.1, 1, 2, 4, 6, 8, 10],\n",
       "                         'kernel': ['linear']},\n",
       "             pre_dispatch='2*n_jobs', refit=True, return_train_score=False,\n",
       "             scoring='accuracy', verbose=0)"
      ]
     },
     "execution_count": 24,
     "metadata": {},
     "output_type": "execute_result"
    }
   ],
   "source": [
    "grid.fit(X_train, y_train)"
   ]
  },
  {
   "cell_type": "code",
   "execution_count": 25,
   "metadata": {},
   "outputs": [
    {
     "name": "stdout",
     "output_type": "stream",
     "text": [
      "{'C': 1, 'gamma': 0.0001, 'kernel': 'linear'}\n"
     ]
    }
   ],
   "source": [
    "print(grid.best_params_)"
   ]
  },
  {
   "cell_type": "markdown",
   "metadata": {},
   "source": [
    "Boosted Model"
   ]
  },
  {
   "cell_type": "code",
   "execution_count": 26,
   "metadata": {},
   "outputs": [
    {
     "data": {
      "text/plain": [
       "SVC(C=1, cache_size=200, class_weight=None, coef0=0.0,\n",
       "    decision_function_shape='ovr', degree=3, gamma=0.0001, kernel='linear',\n",
       "    max_iter=-1, probability=False, random_state=None, shrinking=True,\n",
       "    tol=0.001, verbose=False)"
      ]
     },
     "execution_count": 26,
     "metadata": {},
     "output_type": "execute_result"
    }
   ],
   "source": [
    "model_svm = SVC(kernel='linear', C=1,gamma=0.0001)\n",
    "model_svm.fit(X_train, y_train)"
   ]
  },
  {
   "cell_type": "code",
   "execution_count": 27,
   "metadata": {},
   "outputs": [
    {
     "name": "stdout",
     "output_type": "stream",
     "text": [
      "              precision    recall  f1-score   support\n",
      "\n",
      "           0       0.88      0.96      0.92        82\n",
      "           1       0.79      0.50      0.61        22\n",
      "\n",
      "    accuracy                           0.87       104\n",
      "   macro avg       0.83      0.73      0.76       104\n",
      "weighted avg       0.86      0.87      0.85       104\n",
      "\n",
      "*********\n",
      "[[79  3]\n",
      " [11 11]]\n"
     ]
    }
   ],
   "source": [
    "#prediction on train data\n",
    "y_pred_svm=model_svm.predict(X_train)\n",
    "print(classification_report(y_train,y_pred_svm))\n",
    "print (\"*********\")\n",
    "print (confusion_matrix(y_train,y_pred_svm))"
   ]
  },
  {
   "cell_type": "code",
   "execution_count": 28,
   "metadata": {},
   "outputs": [
    {
     "name": "stdout",
     "output_type": "stream",
     "text": [
      "              precision    recall  f1-score   support\n",
      "\n",
      "           0       0.70      1.00      0.82        16\n",
      "           1       1.00      0.36      0.53        11\n",
      "\n",
      "    accuracy                           0.74        27\n",
      "   macro avg       0.85      0.68      0.68        27\n",
      "weighted avg       0.82      0.74      0.70        27\n",
      "\n",
      "*********\n",
      "[[16  0]\n",
      " [ 7  4]]\n"
     ]
    }
   ],
   "source": [
    "#prediction on test data\n",
    "pred_y_svm=model_svm.predict(X_test)\n",
    "print(classification_report(y_test,pred_y_svm))\n",
    "print (\"*********\")\n",
    "print (confusion_matrix(y_test,pred_y_svm))"
   ]
  },
  {
   "cell_type": "markdown",
   "metadata": {},
   "source": [
    "# KNN"
   ]
  },
  {
   "cell_type": "code",
   "execution_count": 63,
   "metadata": {},
   "outputs": [],
   "source": [
    "from sklearn.preprocessing import StandardScaler\n",
    "sc=StandardScaler()\n",
    "X_train=sc.fit_transform(X_train)\n",
    "X_test=sc.transform(X_test)"
   ]
  },
  {
   "cell_type": "code",
   "execution_count": 116,
   "metadata": {},
   "outputs": [
    {
     "data": {
      "text/plain": [
       "KNeighborsClassifier(algorithm='auto', leaf_size=30, metric='minkowski',\n",
       "                     metric_params=None, n_jobs=None, n_neighbors=1, p=2,\n",
       "                     weights='distance')"
      ]
     },
     "execution_count": 116,
     "metadata": {},
     "output_type": "execute_result"
    }
   ],
   "source": [
    "from sklearn.neighbors import KNeighborsClassifier\n",
    "knn_model = KNeighborsClassifier(weights='distance', n_neighbors=1)\n",
    "knn_model.fit(X_train, y_train)"
   ]
  },
  {
   "cell_type": "code",
   "execution_count": 117,
   "metadata": {},
   "outputs": [
    {
     "name": "stdout",
     "output_type": "stream",
     "text": [
      "              precision    recall  f1-score   support\n",
      "\n",
      "           0       1.00      1.00      1.00        82\n",
      "           1       1.00      1.00      1.00        22\n",
      "\n",
      "    accuracy                           1.00       104\n",
      "   macro avg       1.00      1.00      1.00       104\n",
      "weighted avg       1.00      1.00      1.00       104\n",
      "\n",
      "*********\n",
      "[[82  0]\n",
      " [ 0 22]]\n"
     ]
    }
   ],
   "source": [
    "knn_y_train=knn_model.predict(X_train)\n",
    "print(classification_report(y_train,knn_y_train))\n",
    "print (\"*********\")\n",
    "print (confusion_matrix(y_train,knn_y_train))"
   ]
  },
  {
   "cell_type": "code",
   "execution_count": 118,
   "metadata": {},
   "outputs": [
    {
     "name": "stdout",
     "output_type": "stream",
     "text": [
      "              precision    recall  f1-score   support\n",
      "\n",
      "           0       0.75      0.94      0.83        16\n",
      "           1       0.86      0.55      0.67        11\n",
      "\n",
      "    accuracy                           0.78        27\n",
      "   macro avg       0.80      0.74      0.75        27\n",
      "weighted avg       0.79      0.78      0.77        27\n",
      "\n",
      "*********\n",
      "[[15  1]\n",
      " [ 5  6]]\n"
     ]
    }
   ],
   "source": [
    "knn_y_test=knn_model.predict(X_test)\n",
    "print(classification_report(y_test,knn_y_test))\n",
    "print (\"*********\")\n",
    "print (confusion_matrix(y_test,knn_y_test))"
   ]
  },
  {
   "cell_type": "code",
   "execution_count": 119,
   "metadata": {},
   "outputs": [],
   "source": [
    "#Performance of KNN on test data is better than the others "
   ]
  },
  {
   "cell_type": "code",
   "execution_count": null,
   "metadata": {},
   "outputs": [],
   "source": []
  },
  {
   "cell_type": "code",
   "execution_count": null,
   "metadata": {},
   "outputs": [],
   "source": []
  }
 ],
 "metadata": {
  "kernelspec": {
   "display_name": "Python 3",
   "language": "python",
   "name": "python3"
  },
  "language_info": {
   "codemirror_mode": {
    "name": "ipython",
    "version": 3
   },
   "file_extension": ".py",
   "mimetype": "text/x-python",
   "name": "python",
   "nbconvert_exporter": "python",
   "pygments_lexer": "ipython3",
   "version": "3.7.1"
  }
 },
 "nbformat": 4,
 "nbformat_minor": 2
}
